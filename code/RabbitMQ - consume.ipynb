{
 "cells": [
  {
   "cell_type": "code",
   "execution_count": 10,
   "metadata": {},
   "outputs": [
    {
     "data": {
      "text/plain": [
       "'ctag1.4478ff820b70479abe89a2a8b075ad23'"
      ]
     },
     "execution_count": 10,
     "metadata": {},
     "output_type": "execute_result"
    }
   ],
   "source": [
    "#!/usr/bin/env python\n",
    "import pika\n",
    "import psycopg2\n",
    "import json\n",
    "\n",
    "credentials = pika.PlainCredentials('guest', 'guest')\n",
    "connection = pika.ConnectionParameters('rabbitmq',\n",
    "                                       5672,\n",
    "                                       '/',\n",
    "                                       credentials)\n",
    "\n",
    "connection = pika.BlockingConnection(connection)\n",
    "channel = connection.channel()\n",
    "\n",
    "channel.queue_declare(queue='genetico')\n",
    "\n",
    "conn = psycopg2.connect(host=\"postgres\",\n",
    "                        database=\"genetico\", \n",
    "                        user=\"postgres\", \n",
    "                        password=\"Postgres2019!\")\n",
    "\n",
    "cur = conn.cursor()\n",
    "\n",
    "def create_table(name):\n",
    "    create_table_query = '''CREATE TABLE IF NOT EXISTS {}\n",
    "      (RUN            TEXT    NOT NULL,\n",
    "       GENERATION      INT    NOT NULL,\n",
    "       VARIABLES       TEXT    NOT NULL,\n",
    "       FITNESS       NUMERIC(12,6)    NOT NULL); '''.format(name)\n",
    "    cur.execute(create_table_query)\n",
    "    conn.commit()\n",
    "    \n",
    "    \n",
    "def callback(ch, method, properties, text):\n",
    "    text= json.loads(str(text, 'utf-8'))\n",
    "    sql = \"\"\"INSERT INTO {}(run, generation, variables, fitness)\n",
    "             VALUES(%s, %s, %s, %s);\"\"\".format(text['experiment'])\n",
    "    create_table(text['experiment'])\n",
    "    cur.execute(sql, (text['run'], text['generation'], text['variables'], text['fitness'],))\n",
    "    conn.commit()\n",
    "    \n",
    "channel.basic_consume(queue='genetico',\n",
    "                      auto_ack=True,\n",
    "                      on_message_callback=callback)"
   ]
  },
  {
   "cell_type": "code",
   "execution_count": null,
   "metadata": {},
   "outputs": [
    {
     "name": "stdout",
     "output_type": "stream",
     "text": [
      " [*] Waiting for messages. To exit press CTRL+C\n"
     ]
    }
   ],
   "source": [
    "print(' [*] Waiting for messages. To exit press CTRL+C')\n",
    "channel.start_consuming()"
   ]
  },
  {
   "cell_type": "code",
   "execution_count": null,
   "metadata": {},
   "outputs": [],
   "source": []
  }
 ],
 "metadata": {
  "kernelspec": {
   "display_name": "Python 3",
   "language": "python",
   "name": "python3"
  },
  "language_info": {
   "codemirror_mode": {
    "name": "ipython",
    "version": 3
   },
   "file_extension": ".py",
   "mimetype": "text/x-python",
   "name": "python",
   "nbconvert_exporter": "python",
   "pygments_lexer": "ipython3",
   "version": "3.7.3"
  }
 },
 "nbformat": 4,
 "nbformat_minor": 2
}

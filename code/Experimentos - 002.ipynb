{
 "cells": [
  {
   "cell_type": "markdown",
   "metadata": {},
   "source": [
    "## Configurações iniciais"
   ]
  },
  {
   "cell_type": "markdown",
   "metadata": {},
   "source": [
    "## Gerando população inicial de cromossomos"
   ]
  },
  {
   "cell_type": "code",
   "execution_count": 6,
   "metadata": {},
   "outputs": [],
   "source": [
    "import random\n",
    "\n",
    "class Cromossome:\n",
    "    def __init__(self, genetics=None):\n",
    "        self.length = 20\n",
    "        self.mutation_rate = 0.01\n",
    "        self.generate_cromossome(genetics)\n",
    "        self.score = self.fitness()\n",
    "       \n",
    "    def __str__(self):\n",
    "        #return str(self.cromossome)\n",
    "        result = ''\n",
    "        for bit in self.cromossome:\n",
    "            result += '1' if bit else '0'\n",
    "        return result\n",
    "    \n",
    "    def generate_cromossome(self, genetics):\n",
    "        if genetics:\n",
    "            self.cromossome = genetics\n",
    "        else:\n",
    "            self.cromossome = []\n",
    "            for i in range(self.length):\n",
    "                self.cromossome.append(random.randint(0,1) == 1)\n",
    "    \n",
    "    def mutation(self):\n",
    "        for i in range(self.length):\n",
    "            if random.random() < self.mutation_rate:\n",
    "                self.cromossome[i] = type(self.cromossome[i])(not self.cromossome[i])\n",
    "            \n",
    "    def fitness(self):\n",
    "        OPTIMAL = 20*'1'\n",
    "        fitness = 0\n",
    "        for c in range(self.length):\n",
    "            fitness += abs(ord(str(self)[c]) - ord(OPTIMAL[c]))\n",
    "        return self.length - fitness"
   ]
  },
  {
   "cell_type": "code",
   "execution_count": 7,
   "metadata": {},
   "outputs": [],
   "source": [
    "import operator\n",
    "\n",
    "class Population:\n",
    "    def __init__(self):\n",
    "        self.size = 30\n",
    "        self.crossover_rate = 0.7\n",
    "        self.individuals = []\n",
    "        self.score = self.calculate_score()\n",
    "        self.history = []\n",
    "        \n",
    "    def add(self, individual):\n",
    "        self.individuals.append(individual)\n",
    "        self.score = self.calculate_score()\n",
    "        \n",
    "    def calculate_score(self):\n",
    "        self.score = 0\n",
    "        for individual in self.individuals:\n",
    "            self.score += individual.fitness()\n",
    "        return self.score\n",
    "    \n",
    "    def crossover(self):\n",
    "        for i in range(len(self.individuals)):\n",
    "            if random.random() < self.crossover_rate:\n",
    "                cromossome_A, cromossome_B = 0, 0\n",
    "                while cromossome_A == cromossome_B:\n",
    "                    cromossome_A, cromossome_B = random.choice(self.individuals), random.choice(self.individuals)\n",
    "                pos = int(random.random()*cromossome_A.length)\n",
    "                self.sort()\n",
    "                self.individuals.pop()\n",
    "                self.individuals.pop()\n",
    "                self.add(Cromossome(genetics=cromossome_A.cromossome[:pos]+cromossome_B.cromossome[pos:]))\n",
    "                self.add(Cromossome(genetics=cromossome_B.cromossome[:pos]+cromossome_A.cromossome[pos:]))\n",
    "    \n",
    "    def sort(self):\n",
    "        self.individuals.sort(key=operator.attrgetter('score'), reverse=True)\n",
    "        \n",
    "    def drop(self, vitims):\n",
    "        for i in range(vitims):\n",
    "            self.individuals.pop()"
   ]
  },
  {
   "cell_type": "code",
   "execution_count": 8,
   "metadata": {},
   "outputs": [
    {
     "data": {
      "text/plain": [
       "<METHOD(['channel_number=1', 'frame_type=1', \"method=<Queue.DeclareOk(['consumer_count=1', 'message_count=0', 'queue=genetico'])>\"])>"
      ]
     },
     "execution_count": 8,
     "metadata": {},
     "output_type": "execute_result"
    }
   ],
   "source": [
    "import pika\n",
    "import json\n",
    "\n",
    "credentials = pika.PlainCredentials('guest', 'guest')\n",
    "connection = pika.ConnectionParameters('rabbitmq',\n",
    "                                       5672,\n",
    "                                       '/',\n",
    "                                       credentials)\n",
    "\n",
    "connection = pika.BlockingConnection(connection)\n",
    "channel = connection.channel()\n",
    "\n",
    "channel.queue_declare(queue='genetico')\n"
   ]
  },
  {
   "cell_type": "code",
   "execution_count": 9,
   "metadata": {},
   "outputs": [
    {
     "name": "stdout",
     "output_type": "stream",
     "text": [
      "[333, 397, 478, 519, 550, 572, 574, 597, 592, 587]\n",
      "[389, 446, 495, 524, 540, 549, 570, 599, 592, 580]\n",
      "[371, 423, 493, 525, 549, 571, 575, 596, 590, 582]\n",
      "[403, 469, 490, 520, 542, 578, 591, 591, 583, 576]\n",
      "[424, 464, 491, 527, 563, 591, 596, 590, 585, 576]\n",
      "[389, 451, 502, 526, 551, 568, 562, 555, 550, 545]\n",
      "[348, 387, 408, 440, 472, 509, 551, 567, 563, 562]\n",
      "[405, 462, 483, 491, 511, 511, 527, 537, 536, 556]\n",
      "[427, 489, 522, 547, 574, 583, 596, 589, 584, 577]\n",
      "[368, 406, 447, 473, 522, 548, 564, 560, 557, 550]\n",
      "[411, 457, 483, 511, 521, 539, 550, 577, 597, 587]\n",
      "[347, 412, 459, 493, 529, 547, 554, 577, 600, 596]\n",
      "[394, 451, 491, 512, 524, 543, 562, 574, 591, 594]\n",
      "[370, 459, 502, 526, 535, 549, 569, 563, 553, 545]\n",
      "[382, 442, 493, 528, 555, 572, 594, 592, 584, 578]\n",
      "[405, 459, 476, 503, 546, 564, 581, 596, 594, 591]\n",
      "[371, 405, 445, 481, 510, 499, 509, 539, 553, 567]\n",
      "[385, 450, 492, 519, 534, 548, 569, 570, 574, 595]\n",
      "[363, 421, 477, 518, 528, 544, 568, 563, 559, 554]\n",
      "[384, 430, 456, 478, 512, 537, 560, 570, 575, 577]\n"
     ]
    }
   ],
   "source": [
    "RUN_NUMBER = 1\n",
    "\n",
    "EXPERIMENT_NAME = 'Exp_001'\n",
    "\n",
    "for i in range(20):\n",
    "    population = Population()\n",
    "    for x in range(population.size):\n",
    "        population.add(Cromossome())\n",
    "    '''\n",
    "    population.history.append(population.score)\n",
    "    print('Population Score:', population.score)\n",
    "\n",
    "    print ('Cromossome\\t\\tFitness')\n",
    "    population.sort()\n",
    "    for cromo in population.individuals:\n",
    "        print(str(cromo) + '\\t' + str(cromo.fitness()))\n",
    "    '''\n",
    "\n",
    "    for j in range(10):\n",
    "        population.crossover()\n",
    "\n",
    "        for individual in population.individuals:\n",
    "            individual.mutation()\n",
    "\n",
    "        #print('Population Score:', population.score)\n",
    "        population.history.append(population.score)\n",
    "\n",
    "        #print ('\\nCromossome\\t\\tFitness')\n",
    "        population.sort()\n",
    "\n",
    "        for cromo in population.individuals:\n",
    "            message = {'experiment': EXPERIMENT_NAME,\n",
    "               'run': i,\n",
    "               'generation': j,\n",
    "               'variables': cromo.cromossome,\n",
    "               'fitness': cromo.fitness() }\n",
    "            #print(message)\n",
    "            channel.basic_publish(exchange='',\n",
    "                                  routing_key='genetico',\n",
    "                                  body=json.dumps(message))\n",
    "\n",
    "    print(population.history)"
   ]
  },
  {
   "cell_type": "code",
   "execution_count": 5,
   "metadata": {},
   "outputs": [],
   "source": [
    "connection.close()"
   ]
  }
 ],
 "metadata": {
  "kernelspec": {
   "display_name": "Python 3",
   "language": "python",
   "name": "python3"
  },
  "language_info": {
   "codemirror_mode": {
    "name": "ipython",
    "version": 3
   },
   "file_extension": ".py",
   "mimetype": "text/x-python",
   "name": "python",
   "nbconvert_exporter": "python",
   "pygments_lexer": "ipython3",
   "version": "3.7.3"
  }
 },
 "nbformat": 4,
 "nbformat_minor": 2
}
